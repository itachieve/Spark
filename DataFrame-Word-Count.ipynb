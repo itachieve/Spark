{
 "cells": [
  {
   "cell_type": "code",
   "execution_count": 2,
   "metadata": {},
   "outputs": [],
   "source": [
    "from pyspark import SparkConf, SparkContext\n",
    "from pyspark.sql import SQLContext"
   ]
  },
  {
   "cell_type": "code",
   "execution_count": 3,
   "metadata": {},
   "outputs": [],
   "source": [
    "conf = SparkConf().setMaster(\"local\").setAppName(\"dataframe-wordcount\")\n",
    "sc = SparkContext(conf=conf)\n",
    "spark = SQLContext(sc)"
   ]
  },
  {
   "cell_type": "code",
   "execution_count": 6,
   "metadata": {},
   "outputs": [],
   "source": [
    "dataframe = spark.read.format(\"csv\").option(\"header\", \"true\").load(\"./business_price.csv\")"
   ]
  },
  {
   "cell_type": "code",
   "execution_count": 7,
   "metadata": {},
   "outputs": [
    {
     "name": "stdout",
     "output_type": "stream",
     "text": [
      "+----------------+--------------+--------------------+-------+-------------------+\n",
      "|Series reference|        Period|         Description|Revised|Initially published|\n",
      "+----------------+--------------+--------------------+-------+-------------------+\n",
      "|         2019.09|PPIQ.SQN800000|All industries ex...|   1167|               1164|\n",
      "|         2019.12|PPIQ.SQN800000|All industries ex...|   1170|               1166|\n",
      "|         2019.09|PPIQ.SQN800001|All industries ex...|   1167|               1164|\n",
      "|         2019.12|PPIQ.SQN800001|All industries ex...|   1170|               1166|\n",
      "|         2019.09|PPIQ.SQN900000|All industries, I...|   1166|               1164|\n",
      "|         2019.12|PPIQ.SQN900000|All industries, I...|   1169|               1165|\n",
      "|         2019.09|PPIQ.SQN900001|All industries ex...|   1166|               1163|\n",
      "|         2019.12|PPIQ.SQN900001|All industries ex...|   1169|               1165|\n",
      "|         2019.12|PPIQ.SQNAA0000|Agriculture, Fore...|   1207|               1206|\n",
      "|         2019.12|PPIQ.SQNAA2000|Forestry and Logg...|   1217|               1208|\n",
      "|         2019.12|PPIQ.SQNAA2100|Forestry and Logg...|   1217|               1208|\n",
      "|         2019.12|PPIQ.SQNAA211X|Forestry and Logg...|   1217|               1208|\n",
      "|         2019.09|PPIQ.SQNCC0000|Manufacturing, In...|   1154|               1144|\n",
      "|         2019.12|PPIQ.SQNCC0000|Manufacturing, In...|   1162|               1149|\n",
      "|         2019.09|PPIQ.SQNCC1000|Food, Beverage an...|   1203|               1184|\n",
      "|         2019.12|PPIQ.SQNCC1000|Food, Beverage an...|   1232|               1208|\n",
      "|         2019.09|PPIQ.SQNCC1300|Dairy Product Man...|   1131|               1094|\n",
      "|         2019.12|PPIQ.SQNCC1300|Dairy Product Man...|   1162|               1116|\n",
      "|         2019.09|PPIQ.SQNCC131X|Dairy Product Man...|   1131|               1094|\n",
      "|         2019.12|PPIQ.SQNCC131X|Dairy Product Man...|   1162|               1116|\n",
      "+----------------+--------------+--------------------+-------+-------------------+\n",
      "only showing top 20 rows\n",
      "\n"
     ]
    }
   ],
   "source": [
    "dataframe.show()"
   ]
  },
  {
   "cell_type": "code",
   "execution_count": 16,
   "metadata": {},
   "outputs": [
    {
     "ename": "ImportError",
     "evalue": "Pandas >= 0.23.2 must be installed; however, it was not found.",
     "output_type": "error",
     "traceback": [
      "\u001b[0;31m---------------------------------------------------------------------------\u001b[0m",
      "\u001b[0;31mImportError\u001b[0m                               Traceback (most recent call last)",
      "\u001b[0;32m<ipython-input-16-facd09bf60ef>\u001b[0m in \u001b[0;36m<module>\u001b[0;34m\u001b[0m\n\u001b[0;32m----> 1\u001b[0;31m \u001b[0mdataframe\u001b[0m\u001b[0;34m.\u001b[0m\u001b[0mselect\u001b[0m\u001b[0;34m(\u001b[0m\u001b[0;34m\"Period\"\u001b[0m\u001b[0;34m)\u001b[0m\u001b[0;34m.\u001b[0m\u001b[0mtoPandas\u001b[0m\u001b[0;34m(\u001b[0m\u001b[0;34m)\u001b[0m\u001b[0;34m\u001b[0m\u001b[0;34m\u001b[0m\u001b[0m\n\u001b[0m",
      "\u001b[0;32m~/Development/Spark/lib/python3.6/site-packages/pyspark/sql/pandas/conversion.py\u001b[0m in \u001b[0;36mtoPandas\u001b[0;34m(self)\u001b[0m\n\u001b[1;32m     61\u001b[0m \u001b[0;34m\u001b[0m\u001b[0m\n\u001b[1;32m     62\u001b[0m         \u001b[0;32mfrom\u001b[0m \u001b[0mpyspark\u001b[0m\u001b[0;34m.\u001b[0m\u001b[0msql\u001b[0m\u001b[0;34m.\u001b[0m\u001b[0mpandas\u001b[0m\u001b[0;34m.\u001b[0m\u001b[0mutils\u001b[0m \u001b[0;32mimport\u001b[0m \u001b[0mrequire_minimum_pandas_version\u001b[0m\u001b[0;34m\u001b[0m\u001b[0;34m\u001b[0m\u001b[0m\n\u001b[0;32m---> 63\u001b[0;31m         \u001b[0mrequire_minimum_pandas_version\u001b[0m\u001b[0;34m(\u001b[0m\u001b[0;34m)\u001b[0m\u001b[0;34m\u001b[0m\u001b[0;34m\u001b[0m\u001b[0m\n\u001b[0m\u001b[1;32m     64\u001b[0m \u001b[0;34m\u001b[0m\u001b[0m\n\u001b[1;32m     65\u001b[0m         \u001b[0;32mimport\u001b[0m \u001b[0mnumpy\u001b[0m \u001b[0;32mas\u001b[0m \u001b[0mnp\u001b[0m\u001b[0;34m\u001b[0m\u001b[0;34m\u001b[0m\u001b[0m\n",
      "\u001b[0;32m~/Development/Spark/lib/python3.6/site-packages/pyspark/sql/pandas/utils.py\u001b[0m in \u001b[0;36mrequire_minimum_pandas_version\u001b[0;34m()\u001b[0m\n\u001b[1;32m     31\u001b[0m     \u001b[0;32mif\u001b[0m \u001b[0;32mnot\u001b[0m \u001b[0mhave_pandas\u001b[0m\u001b[0;34m:\u001b[0m\u001b[0;34m\u001b[0m\u001b[0;34m\u001b[0m\u001b[0m\n\u001b[1;32m     32\u001b[0m         raise ImportError(\"Pandas >= %s must be installed; however, \"\n\u001b[0;32m---> 33\u001b[0;31m                           \"it was not found.\" % minimum_pandas_version)\n\u001b[0m\u001b[1;32m     34\u001b[0m     \u001b[0;32mif\u001b[0m \u001b[0mLooseVersion\u001b[0m\u001b[0;34m(\u001b[0m\u001b[0mpandas\u001b[0m\u001b[0;34m.\u001b[0m\u001b[0m__version__\u001b[0m\u001b[0;34m)\u001b[0m \u001b[0;34m<\u001b[0m \u001b[0mLooseVersion\u001b[0m\u001b[0;34m(\u001b[0m\u001b[0mminimum_pandas_version\u001b[0m\u001b[0;34m)\u001b[0m\u001b[0;34m:\u001b[0m\u001b[0;34m\u001b[0m\u001b[0;34m\u001b[0m\u001b[0m\n\u001b[1;32m     35\u001b[0m         raise ImportError(\"Pandas >= %s must be installed; however, \"\n",
      "\u001b[0;31mImportError\u001b[0m: Pandas >= 0.23.2 must be installed; however, it was not found."
     ]
    }
   ],
   "source": [
    "dataframe.select(\"Period\").tai"
   ]
  }
 ],
 "metadata": {
  "kernelspec": {
   "display_name": "Python 3",
   "language": "python",
   "name": "python3"
  },
  "language_info": {
   "codemirror_mode": {
    "name": "ipython",
    "version": 3
   },
   "file_extension": ".py",
   "mimetype": "text/x-python",
   "name": "python",
   "nbconvert_exporter": "python",
   "pygments_lexer": "ipython3",
   "version": "3.6.7"
  }
 },
 "nbformat": 4,
 "nbformat_minor": 4
}
